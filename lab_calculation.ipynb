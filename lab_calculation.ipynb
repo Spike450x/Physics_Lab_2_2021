{
 "cells": [
  {
   "cell_type": "markdown",
   "metadata": {},
   "source": [
    "# Python Import\n",
    "\n",
    "This python import is used to do our math calculation. "
   ]
  },
  {
   "cell_type": "code",
   "execution_count": 45,
   "metadata": {},
   "outputs": [],
   "source": [
    "import numpy as np                  # Math import"
   ]
  },
  {
   "cell_type": "markdown",
   "metadata": {},
   "source": [
    "# Data\n",
    "\n",
    "This section will deal with getting the mean, standard deviation, and the standard deviation of uncertainty. "
   ]
  },
  {
   "cell_type": "markdown",
   "metadata": {},
   "source": [
    "## Collected Data\n",
    "\n",
    "This is our sample data from our experiements. Sample a is the time taken from a height of 18.25 inches. Sample b is the time taken from a height of 42.25 inches. Sample c is the time taken from a height of 78 inches. Sample d is the time taken from a height of 114 inches. "
   ]
  },
  {
   "cell_type": "code",
   "execution_count": 46,
   "metadata": {},
   "outputs": [],
   "source": [
    "sample_a = [0.4,0.3,0.3]          # These are our times from 18.25 inches. Values stored in sample_a.\n",
    "sample_b = [0.5,0.6,0.5]          # These are our times from 42.25 inches. Values stored in sample_b. \n",
    "sample_c = [0.7,0.7,0.7]          # These are our times from 78 inches. Value stored in sample_c.\n",
    "sample_d = [0.8,0.9,0.8]          # These are our times from 114 inches. Value stored in sample_d. "
   ]
  },
  {
   "cell_type": "markdown",
   "metadata": {},
   "source": [
    "## Getting the mean\n",
    "\n",
    "We will use our numpy import to call the built in mean function for our samples. We will then store the mean value in variable a_mean, b_mean, c_mean, and d_mean."
   ]
  },
  {
   "cell_type": "code",
   "execution_count": 47,
   "metadata": {},
   "outputs": [],
   "source": [
    "a_mean = np.mean(sample_a)          # Calculates the mean of our first sample. Stores the value in a_mean. \n",
    "b_mean = np.mean(sample_b)          # Calculates the mean of our second sample. Stores the value in b_mean.\n",
    "c_mean = np.mean(sample_c)          # Calculates the mean of our third sample. Stores the value in c_mean.\n",
    "d_mean = np.mean(sample_d)          # Calculates the mean of our fourth sample. Stores the value in d_mean. "
   ]
  },
  {
   "cell_type": "markdown",
   "metadata": {},
   "source": [
    "## Getting the Standard Deviation\n",
    "\n",
    "We will use our numpy import to call the built in standard deviation function for each sample. We will then store the data in variables a_stdev, b_stdev, c_stdev, and d_stdev."
   ]
  },
  {
   "cell_type": "code",
   "execution_count": 48,
   "metadata": {},
   "outputs": [],
   "source": [
    "a_stdev = np.std(sample_a)          # Calculates the standard deviation of our first sample. Stores the value in a_stdev.\n",
    "b_stdev = np.std(sample_b)          # Calculates the standard deviation of our second sample. Stores the values in b_stdev.\n",
    "c_stdev = np.std(sample_c)          # Calculates the standard deviation of our third sample. Stores the values in c_stdev.\n",
    "d_stdev = np.std(sample_d)          # Calculates the standard deviation of our fourth sample. Stores the values in d_stdev."
   ]
  },
  {
   "cell_type": "markdown",
   "metadata": {},
   "source": [
    "## Getting the Standard Deviation of Uncertainty\n",
    "\n",
    "First, we need to know how many trials we preformed so we use pythons built-in length function to get the length of our array's sample_a, sample_b, sample_c, and sample_d. We store those values in a_numTrial, b_numTrials, c_numTrials, and d_numTrials. \n",
    "\n",
    "Once we have that data, we will divide our standard deviation by the square root of our number of trials. We will use our numpy import to call the built in square root function for each sample on the variables a_numTrials, b_numTrials, c_numTrials, and d_numTrials. Our final answers will be stored in a_stdunc, b_stdunc, c_stdunc, and d_stdunc. "
   ]
  },
  {
   "cell_type": "code",
   "execution_count": 49,
   "metadata": {},
   "outputs": [],
   "source": [
    "a_numTrials = len(sample_a)         # Calcuates the number of trials for our first sample. Stored in variable a_numTrials.\n",
    "b_numTrials = len(sample_b)         # Calculates the number of trials for our second sample. Stored in variable b_numTrials.\n",
    "c_numTrials = len(sample_c)         # Calculates the number of trials for our third sample. Stored in variable c_numTrials.\n",
    "d_numTrials = len(sample_d)         # Calculates the number of trials for our fourth sample. Stored in variable d_numTrials. "
   ]
  },
  {
   "cell_type": "code",
   "execution_count": 50,
   "metadata": {},
   "outputs": [],
   "source": [
    "a_stdunc = a_stdev / np.sqrt(a_numTrials)  # Calculates the standard deviation of uncertainty for our first sample. Stored in variable a_stdunc. \n",
    "b_stdunc = b_stdev / np.sqrt(b_numTrials)  # Calculates tbe standard deviation of uncertainty for our second sample. Stored in variable b_stdunc. \n",
    "c_stdunc = c_stdev / np.sqrt(c_numTrials)  # Calculates tbe standard deviation of uncertainty for our third sample. Stored in variable c_stdunc.\n",
    "d_stdunc = d_stdev / np.sqrt(d_numTrials)  # Calculates tbe standard deviation of uncertainty for our fourth sample. Stored in variable d_stdunc. "
   ]
  },
  {
   "cell_type": "markdown",
   "metadata": {},
   "source": [
    "# Results\n",
    "\n",
    "This section prints our all of our data for the user to see."
   ]
  },
  {
   "cell_type": "code",
   "execution_count": 51,
   "metadata": {
    "scrolled": true
   },
   "outputs": [
    {
     "name": "stdout",
     "output_type": "stream",
     "text": [
      "\t\tData Values\n",
      "===========================================\n",
      "\n",
      "\n",
      "Sample A Mean: 0.3333333333333333\n",
      "Sample B Mean: 0.5333333333333333\n",
      "Sample C Mean: 0.6999999999999998\n",
      "Sample D Mean: 0.8333333333333334\n",
      "\n",
      "Sample A Standard Deviation: 0.04714045207910318\n",
      "Sample B Standard Deviation: 0.04714045207910316\n",
      "Sample C Standard Deviation: 1.1102230246251565e-16\n",
      "Sample D Standard Deviation: 0.04714045207910316\n",
      "\n",
      "Sample A Standard Deviation of Uncertainty: 0.027216552697590875\n",
      "Sample B Standard Deviation of Uncertainty: 0.027216552697590865\n",
      "Sample C Standard Deviation of Uncertainty: 6.409875621278547e-17\n",
      "Sample D Standard Deviation of Uncertainty: 0.027216552697590865\n"
     ]
    }
   ],
   "source": [
    "print(\"\\t\\tData Values\")\n",
    "print(\"===========================================\\n\\n\")\n",
    "\n",
    "print(\"Sample A Mean: \" + str(a_mean))\n",
    "print(\"Sample B Mean: \" + str(b_mean))\n",
    "print(\"Sample C Mean: \" + str(c_mean))\n",
    "print(\"Sample D Mean: \" + str(d_mean))\n",
    "print()\n",
    "print(\"Sample A Standard Deviation: \" + str(a_stdev))\n",
    "print(\"Sample B Standard Deviation: \" + str(b_stdev))\n",
    "print(\"Sample C Standard Deviation: \" + str(c_stdev))\n",
    "print(\"Sample D Standard Deviation: \" + str(d_stdev))\n",
    "print()\n",
    "print(\"Sample A Standard Deviation of Uncertainty: \" + str(a_stdunc))\n",
    "print(\"Sample B Standard Deviation of Uncertainty: \" + str(b_stdunc))\n",
    "print(\"Sample C Standard Deviation of Uncertainty: \" + str(c_stdunc))\n",
    "print(\"Sample D Standard Deviation of Uncertainty: \" + str(d_stdunc))"
   ]
  },
  {
   "cell_type": "markdown",
   "metadata": {},
   "source": [
    "# Calculating our chi-squared for linear function (y = mx + b)\n",
    "\n",
    "In this section, we will be calculating our chi-squared value. We will input our co-efficicients, our m and b values, into the equation y = mx + b. Our m is our slope, and our b is our y-intercepet. Our 'x' value is the mean height of each sample. We will then pluge all those values together to get our 'y'. \n",
    "\n",
    "Once we get our 'y', we then subtract our 'y' value with the mean value. We square that value to get our residual. Then, we can divide our residual by our standard deviation of uncertainty squared of our sample. \n",
    "\n",
    "Finally, to get our chi-square value, we add up all our values and divide it by the number of trials. "
   ]
  },
  {
   "cell_type": "code",
   "execution_count": 52,
   "metadata": {},
   "outputs": [],
   "source": [
    "m = 0.00508    # This is the slope that we get when we plug in our values into desmos.\n",
    "b = 0.276      # This is the y-intercept that we get when we plug in our values into desmos.\n",
    "numSample = 4  # This is the number of samples we collected, which is four. \n",
    "\n",
    "a_height = 18.25  # This is the height of sample a.\n",
    "b_height = 42.25  # This is the height of sample b.\n",
    "c_height = 78     # This is the height of sample c.\n",
    "d_height = 114    # This is the height of sample d."
   ]
  },
  {
   "cell_type": "code",
   "execution_count": 53,
   "metadata": {},
   "outputs": [],
   "source": [
    "slope_iform_a = m * a_height + b  # This gives our slope-intercept value using the formula y = mx + b. We store it in slope_iform_a.\n",
    "slope_iform_b = m * b_height + b  # This gives our slope-intercept value using the formula y = mx + b. We store it in slope_iform_b.\n",
    "slope_iform_c = m * c_height + b  # This gives our slope-intercept value using the formula y = mx + b. We store it in slope_iform_c.\n",
    "slope_iform_d = m * d_height + b  # This gives our slope-intercept value using the formula y = mx + b. We store it in slope_iform_d."
   ]
  },
  {
   "cell_type": "code",
   "execution_count": 54,
   "metadata": {},
   "outputs": [],
   "source": [
    "residual_a = a_mean - slope_iform_a # This gives our residual. We get this by subtracting our slope-intercept value from the mean. We store it in residual_a.\n",
    "residual_b = b_mean - slope_iform_b # This gives our residual. We get this by subtracting our slope-intercept value from the mean. We store it in residual_b.\n",
    "residual_c = c_mean - slope_iform_c # This gives our residual. We get this by subtracting our slope-intercept value from the mean. We store it in residual_c.\n",
    "residual_d = d_mean - slope_iform_d # This gives our residual. We get this by subtracting our slope-intercept value from the mean. We store it in residual_d."
   ]
  },
  {
   "cell_type": "code",
   "execution_count": 55,
   "metadata": {},
   "outputs": [],
   "source": [
    "r_square_a = np.square(residual_a) # This is the square value of our residual. We store it in r_square_a. \n",
    "r_square_b = np.square(residual_b) # This is the square value of our residual. We store it in r_square_b.\n",
    "r_square_c = np.square(residual_c) # This is the square value of our residual. We store it in r_square_c. \n",
    "r_square_d = np.square(residual_d) # This is the square value of our residual. We store it in r_square_d. "
   ]
  },
  {
   "cell_type": "code",
   "execution_count": 56,
   "metadata": {},
   "outputs": [],
   "source": [
    "square_stdunc_a = np.square(a_stdunc) # This is the square value of our standard deviation of uncertainty. We store this in square_stdunc_a. \n",
    "square_stdunc_b = np.square(b_stdunc) # This is the square value of our standard deviation of uncertainty. We store this in square_stdunc_b.\n",
    "square_stdunc_c = np.square(c_stdunc) # This is the square value of our standard deviation of uncertainty. We store this in square_stdunc_c.\n",
    "square_stdunc_d = np.square(d_stdunc) # This is the square value of our standard deviation of uncertainty. We store this in square_stdunc_d."
   ]
  },
  {
   "cell_type": "code",
   "execution_count": 57,
   "metadata": {},
   "outputs": [],
   "source": [
    "final_answer_a = r_square_a / square_stdunc_a # We can divide our residual from our standard deviation of uncertainty squared. We stored it in final_answer_a.\n",
    "final_answer_b = r_square_b / square_stdunc_b # We can divide our residual from our standard deviation of uncertainty squared. We stored it in final_answer_b.\n",
    "final_answer_c = r_square_c / square_stdunc_c # We can divide our residual from our standard deviation of uncertainty squared. We stored it in final_answer_c.\n",
    "final_answer_d = r_square_d / square_stdunc_d # We can divide our residual from our standard deviation of uncertainty squared. We stored it in final_answer_d."
   ]
  },
  {
   "cell_type": "code",
   "execution_count": 58,
   "metadata": {},
   "outputs": [],
   "source": [
    "chiSquared_result = (final_answer_a + final_answer_b + final_answer_c + final_answer_d) / numSample # We get our chi-squared by adding up our final values divided by number of samples. "
   ]
  },
  {
   "cell_type": "code",
   "execution_count": 59,
   "metadata": {
    "scrolled": true
   },
   "outputs": [
    {
     "name": "stdout",
     "output_type": "stream",
     "text": [
      "Our chi-squared test result is: 4.688994543294826e+28\n",
      "\n",
      "\n",
      "==PROGRAM COMPLETE==\n",
      "\n",
      "\n"
     ]
    }
   ],
   "source": [
    "print(\"Our chi-squared test result is: \" + str(chiSquared_result))\n",
    "print(\"\\n\\n==PROGRAM COMPLETE==\\n\\n\")"
   ]
  },
  {
   "cell_type": "markdown",
   "metadata": {},
   "source": [
    "# Calculating our chi-squared for a parabolic function (y = ax^2 +bx + c)\n",
    "\n",
    "Calculating the chi-squared for the parabolic function is very similar to the linear function, however, we now have values a, b, and c. The 'X' continues to be the mean height of each samples, and we still plug in new values for each sample. Our 'a' value is the width, 'b' is the axis of symmetry, and 'c' is the vertex. "
   ]
  },
  {
   "cell_type": "code",
   "execution_count": 60,
   "metadata": {},
   "outputs": [],
   "source": [
    "a = -0.0000323904 # Width\n",
    "b = 0.00939751 # Axis of symmetry\n",
    "c = 0.175936 # Vertex"
   ]
  },
  {
   "cell_type": "code",
   "execution_count": 61,
   "metadata": {},
   "outputs": [],
   "source": [
    "parab_iform_a = (a * np.square(a_height)) + (b * a_height) + c # This gives our slope-intercept value using the formula y = ax^2 + bx + c. We store it in parab_iform_a.\n",
    "parab_iform_b = (a * np.square(b_height)) + (b * b_height) + c # This gives our slope-intercept value using the formula y = ax^2 + bx + c. We store it in parab_iform_b.\n",
    "parab_iform_c = (a * np.square(c_height)) + (b * c_height) + c # This gives our slope-intercept value using the formula y = ax^2 + bx + c. We store it in parab_iform_c.\n",
    "parab_iform_d = (a * np.square(d_height)) + (b * d_height) + c # This gives our slope-intercept value using the formula y = ax^2 + bx + c. We store it in parab_iform_d."
   ]
  },
  {
   "cell_type": "code",
   "execution_count": 62,
   "metadata": {},
   "outputs": [],
   "source": [
    "p_residual_a = a_mean - parab_iform_a # This gives our residual. We get this by subtracting our slope-intercept value from the mean. We store it in p_residual_a.\n",
    "p_residual_b = b_mean - parab_iform_b # This gives our residual. We get this by subtracting our slope-intercept value from the mean. We store it in p_residual_b.\n",
    "p_residual_c = c_mean - parab_iform_c # This gives our residual. We get this by subtracting our slope-intercept value from the mean. We store it in p_residual_c.\n",
    "p_residual_d = d_mean - parab_iform_d # This gives our residual. We get this by subtracting our slope-intercept value from the mean. We store it in p_residual_d."
   ]
  },
  {
   "cell_type": "code",
   "execution_count": 63,
   "metadata": {},
   "outputs": [],
   "source": [
    "p_r_square_a = np.square(p_residual_a) # This is the square value of our residual. We store it in p_r_square_a. \n",
    "p_r_square_b = np.square(p_residual_b) # This is the square value of our residual. We store it in p_r_square_b. \n",
    "p_r_square_c = np.square(p_residual_c) # This is the square value of our residual. We store it in p_r_square_c. \n",
    "p_r_square_d = np.square(p_residual_d) # This is the square value of our residual. We store it in p_r_square_d. "
   ]
  },
  {
   "cell_type": "code",
   "execution_count": 64,
   "metadata": {},
   "outputs": [],
   "source": [
    "p_square_stdunc_a = np.square(a_stdunc) # This is the square value of our standard deviation of uncertainty. We store this in p_square_stdunc_a. \n",
    "p_square_stdunc_b = np.square(b_stdunc) # This is the square value of our standard deviation of uncertainty. We store this in p_square_stdunc_b. \n",
    "p_square_stdunc_c = np.square(c_stdunc) # This is the square value of our standard deviation of uncertainty. We store this in p_square_stdunc_c. \n",
    "p_square_stdunc_d = np.square(d_stdunc) # This is the square value of our standard deviation of uncertainty. We store this in p_square_stdunc_d. "
   ]
  },
  {
   "cell_type": "code",
   "execution_count": 65,
   "metadata": {},
   "outputs": [],
   "source": [
    "p_final_answer_a = p_r_square_a / p_square_stdunc_a # We can divide our residual from our standard deviation of uncertainty squared. We stored it in p_final_answer_a.\n",
    "p_final_answer_b = p_r_square_b / p_square_stdunc_b # We can divide our residual from our standard deviation of uncertainty squared. We stored it in p_final_answer_b.\n",
    "p_final_answer_c = p_r_square_c / p_square_stdunc_c # We can divide our residual from our standard deviation of uncertainty squared. We stored it in p_final_answer_c.\n",
    "p_final_answer_d = p_r_square_d / p_square_stdunc_d # We can divide our residual from our standard deviation of uncertainty squared. We stored it in p_final_answer_d."
   ]
  },
  {
   "cell_type": "code",
   "execution_count": 66,
   "metadata": {
    "scrolled": true
   },
   "outputs": [
    {
     "name": "stdout",
     "output_type": "stream",
     "text": [
      "Our chi-squared test result is: 8.585593567336519e+27\n",
      "\n",
      "\n",
      "==PROGRAM COMPLETE==\n",
      "\n",
      "\n"
     ]
    }
   ],
   "source": [
    "p_chiSquared_result = (p_final_answer_a + p_final_answer_b + p_final_answer_c + p_final_answer_d) / numSample\n",
    "\n",
    "print(\"Our chi-squared test result is: \" + str(p_chiSquared_result))\n",
    "print(\"\\n\\n==PROGRAM COMPLETE==\\n\\n\")"
   ]
  },
  {
   "cell_type": "code",
   "execution_count": null,
   "metadata": {},
   "outputs": [],
   "source": []
  }
 ],
 "metadata": {
  "kernelspec": {
   "display_name": "Python 3",
   "language": "python",
   "name": "python3"
  },
  "language_info": {
   "codemirror_mode": {
    "name": "ipython",
    "version": 3
   },
   "file_extension": ".py",
   "mimetype": "text/x-python",
   "name": "python",
   "nbconvert_exporter": "python",
   "pygments_lexer": "ipython3",
   "version": "3.8.3"
  },
  "toc": {
   "base_numbering": 1,
   "nav_menu": {
    "height": "259px",
    "width": "480px"
   },
   "number_sections": true,
   "sideBar": true,
   "skip_h1_title": false,
   "title_cell": "Table of Contents",
   "title_sidebar": "Contents",
   "toc_cell": false,
   "toc_position": {
    "height": "calc(100% - 180px)",
    "left": "10px",
    "top": "150px",
    "width": "288px"
   },
   "toc_section_display": true,
   "toc_window_display": true
  }
 },
 "nbformat": 4,
 "nbformat_minor": 4
}
